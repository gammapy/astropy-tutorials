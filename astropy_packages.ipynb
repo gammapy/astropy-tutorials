{
 "metadata": {
  "name": "astropy_packages"
 },
 "nbformat": 3,
 "nbformat_minor": 0,
 "worksheets": [
  {
   "cells": [
    {
     "cell_type": "heading",
     "level": 1,
     "metadata": {},
     "source": [
      "Astropy Packages"
     ]
    },
    {
     "cell_type": "markdown",
     "metadata": {},
     "source": [
      "Here we just showcase the existing astropy packages (and affiliated packages?), there won't be a real astro data analysis task or common thread. The focus is on simple few-line interactive data exploration / analysis tasks. There are ~ 100 to 200 lines of code and reading the tutorial takes about 30 min."
     ]
    },
    {
     "cell_type": "code",
     "collapsed": false,
     "input": [
      "# These imports will be used throughout the notebook. Execute this cell first\n",
      "import numpy as np\n",
      "import matplotlib.pyplot as plt\n",
      "# TODO: How to get inline figures without going to pylab mode?\n",
      "%pylab inline"
     ],
     "language": "python",
     "metadata": {},
     "outputs": [],
     "prompt_number": 22
    },
    {
     "cell_type": "markdown",
     "metadata": {},
     "source": [
      "TODO:\n",
      "\n",
      "* How to use print? Should be simple, but work with Python 3 as well."
     ]
    },
    {
     "cell_type": "heading",
     "level": 2,
     "metadata": {},
     "source": [
      "Astronomy and physics computations with units, quantities and constants"
     ]
    },
    {
     "cell_type": "heading",
     "level": 3,
     "metadata": {},
     "source": [
      "astropy.units"
     ]
    },
    {
     "cell_type": "markdown",
     "metadata": {},
     "source": [
      "astropy.units is a Python package to handle defining and converting between physical units, and performing arithmetic with physical quantities (numbers with associated units). --- ([code](), [docs]())\n",
      "\n",
      "The basic objects are [Unit](TODO: link) and its subclasses as well as [Quantity](TODO: link)."
     ]
    },
    {
     "cell_type": "code",
     "collapsed": false,
     "input": [
      "# Import convention\n",
      "from astropy import units as u\n",
      "# There are lots of units, you should not do\n",
      "# from astropy.units import *\n",
      "# or you'll never find anything in your local namespace.\n",
      "print('Number of items in the u namespace: %d' % len(dir(u)))\n",
      "# If you like to define your units and quantities with strings\n",
      "# you can also use this\n",
      "from astropy.units import Unit, Quantity"
     ],
     "language": "python",
     "metadata": {},
     "outputs": [
      {
       "output_type": "stream",
       "stream": "stdout",
       "text": [
        "Number of items in the u namespace: 2387\n"
       ]
      }
     ],
     "prompt_number": 71
    },
    {
     "cell_type": "code",
     "collapsed": false,
     "input": [
      "print('Unit objects created from objects in the units module:')\n",
      "for unit in [u.m, u.cm, u.W, u.cm / u.s ** 2]:\n",
      "    print((unit, str(unit), type(unit), unit.decompose()))\n",
      "\n",
      "# Or if you prefer creating units by string (e.g. because you find it\n",
      "# more readable, or the unit was a command line argument or FITS header keyword\n",
      "print('Unit objects created from strings:')\n",
      "for unit_string in ['m', 'cm', 'W', 'cm/s2']:\n",
      "    unit = Unit(unit_string)\n",
      "    print((unit, str(unit), type(unit), unit.decompose()))"
     ],
     "language": "python",
     "metadata": {},
     "outputs": [
      {
       "output_type": "stream",
       "stream": "stdout",
       "text": [
        "Unit objects created from objects in the units module:\n",
        "(Unit(\"m\"), 'm', <class 'astropy.units.core.IrreducibleUnit'>, Unit(\"m\"))\n",
        "(Unit(\"cm\"), 'cm', <class 'astropy.units.core.PrefixUnit'>, Unit(\"1.000000e-02 m\"))\n",
        "(Unit(\"W\"), 'W', <class 'astropy.units.core.Unit'>, Unit(\"kg m2 / (s3)\"))\n",
        "(Unit(\"cm / (s2)\"), 'cm / (s2)', <class 'astropy.units.core.CompositeUnit'>, Unit(\"1.000000e-02 m / (s2)\"))\n",
        "Unit objects created from strings:\n",
        "(Unit(\"m\"), 'm', <class 'astropy.units.core.IrreducibleUnit'>, Unit(\"m\"))\n",
        "(Unit(\"cm\"), 'cm', <class 'astropy.units.core.PrefixUnit'>, Unit(\"1.000000e-02 m\"))\n",
        "(Unit(\"W\"), 'W', <class 'astropy.units.core.Unit'>, Unit(\"kg m2 / (s3)\"))\n",
        "(Unit(\"cm / (s2)\"), 'cm / (s2)', <class 'astropy.units.core.CompositeUnit'>, Unit(\"1.000000e-02 m / (s2)\"))\n"
       ]
      }
     ],
     "prompt_number": 90
    },
    {
     "cell_type": "code",
     "collapsed": false,
     "input": [
      "# Quantities are created as (number * unit)\n",
      "for q in [3 * u.m, 42 * u.cm / u.s ** 2, 3 / u.s]:\n",
      "    print((q, str(q), type(q), q.value, q.unit))\n",
      "    print((q.value, q.unit, q.si, q.cgs))\n",
      "# Or you can create Quantity objects directly using Quantity(value, unit),\n",
      "# where unit can be a u.Unit object or a string\n",
      "print(Quantity(42, 'cm/s'))\n",
      "print(Quantity(42, u.cm / u.s))"
     ],
     "language": "python",
     "metadata": {},
     "outputs": [
      {
       "output_type": "stream",
       "stream": "stdout",
       "text": [
        "(<Quantity 3 m>, '3 m', <class 'astropy.units.quantity.Quantity'>, 3, Unit(\"m\"))\n",
        "(3, Unit(\"m\"), <Quantity 3 m>, <Quantity 300.0 cm>)\n",
        "(<Quantity 42 cm / (s2)>, '42 cm / (s2)', <class 'astropy.units.quantity.Quantity'>, 42, Unit(\"cm / (s2)\"))\n",
        "(42, Unit(\"cm / (s2)\"), <Quantity 0.42 m / (s2)>, <Quantity 42.0 cm / (s2)>)\n",
        "(<Quantity 3 1 / (s)>, '3 1 / (s)', <class 'astropy.units.quantity.Quantity'>, 3, Unit(\"1 / (s)\"))\n",
        "(3, Unit(\"1 / (s)\"), <Quantity 3 1 / (s)>, <Quantity 3 1 / (s)>)\n",
        "42 cm / (s)\n",
        "42 cm / (s)\n"
       ]
      }
     ],
     "prompt_number": 104
    },
    {
     "cell_type": "code",
     "collapsed": false,
     "input": [
      "# Compute conversion factors\n",
      "print('pc => m: %s' % u.pc.to(u.m))\n",
      "print('(cm / s) => (mile / hour): %s' % (u.cm / u.s).to(u.mile / u.hour))\n",
      "# Same thing with unit strings\n",
      "print('pc => m: %s' % Unit('pc').to(Unit('m')))\n",
      "print('(cm / s) => (mile / hour): %s' % Unit('cm/s').to(Unit('mile/hour')))"
     ],
     "language": "python",
     "metadata": {},
     "outputs": [
      {
       "output_type": "stream",
       "stream": "stdout",
       "text": [
        "pc => m: 3.08567758147e+16\n",
        "(cm / s) => (mile / hour): 0.0223693629205\n",
        "pc => m: 3.08567758147e+16\n",
        "(cm / s) => (mile / hour): 0.0223693629205\n"
       ]
      }
     ],
     "prompt_number": 126
    },
    {
     "cell_type": "code",
     "collapsed": false,
     "input": [
      "# Convert units using \"equivalencies\"\n",
      "print u.nm.to(u.eV, [1000, 2000], equivalencies=u.spectral())\n",
      "print u.nm.to(u.Hz, [1000, 2000], equivalencies=u.spectral())"
     ],
     "language": "python",
     "metadata": {},
     "outputs": [
      {
       "output_type": "stream",
       "stream": "stdout",
       "text": [
        "[ 1.23984193  0.61992096]\n",
        "[  2.99792458e+14   1.49896229e+14]\n"
       ]
      }
     ],
     "prompt_number": 135
    },
    {
     "cell_type": "code",
     "collapsed": false,
     "input": [
      "# Find equivalent units\n",
      "print(u.cm.find_equivalent_units())\n",
      "print(u.Watt.find_equivalent_units())"
     ],
     "language": "python",
     "metadata": {},
     "outputs": [
      {
       "output_type": "stream",
       "stream": "stdout",
       "text": [
        "  Primary name | Unit definition | Aliases     \n",
        "[\n",
        "  AU           | 1.495979e+11 m  | au           ,\n",
        "  Angstrom     | 1.000000e-10 m  | AA, angstrom ,\n",
        "  ft           | 3.048000e-01 m  | foot         ,\n",
        "  inch         | 2.540000e-02 m  |              ,\n",
        "  lyr          | 9.460730e+15 m  | lightyear    ,\n",
        "  m            | irreducible     | meter        ,\n",
        "  mi           | 1.609344e+03 m  | mile         ,\n",
        "  micron       | 1.000000e-06 m  |              ,\n",
        "  pc           | 3.085678e+16 m  | parsec       ,\n",
        "  solRad       | 6.955080e+08 m  | R_sun        ,\n",
        "  yd           | 9.144000e-01 m  | yard         ,\n",
        "]\n",
        "  Primary name | Unit definition           | Aliases   \n",
        "[\n",
        "  W            | kg m2 / (s3)              | Watt, watt ,\n",
        "  hp           | 7.456999e+02 kg m2 / (s3) | horsepower ,\n",
        "  solLum       | 3.846000e+26 kg m2 / (s3) | L_sun      ,\n",
        "]\n"
       ]
      }
     ],
     "prompt_number": 136
    },
    {
     "cell_type": "code",
     "collapsed": false,
     "input": [
      "# Simplifying units\n",
      "q = (3.0*u.kilometer / (130.51*u.meter/u.second))\n",
      "q.unit.simplify()"
     ],
     "language": "python",
     "metadata": {},
     "outputs": [
      {
       "latex": [
        "$\\mathrm{\\frac{km\\ s}{m}}$"
       ],
       "output_type": "pyout",
       "prompt_number": 146,
       "text": [
        "Unit(\"km s / (m)\")"
       ]
      }
     ],
     "prompt_number": 146
    },
    {
     "cell_type": "code",
     "collapsed": false,
     "input": [
      "fluxunit = u.erg / (u.cm ** 2 * u.s)\n",
      "print('fluxunit: %s' % fluxunit)\n",
      "fluxunit = Unit('erg / (u.cm ** 2 * u.s)\n",
      "print('fluxunit: %s' % fluxunit)\n",
      "# TODO: transform spectral energy density between optical and gamma-ray units\n",
      "# TODO: maybe plot a real SED using some public data? (probably better in a separate tutorial)"
     ],
     "language": "python",
     "metadata": {},
     "outputs": [
      {
       "output_type": "stream",
       "stream": "stdout",
       "text": [
        "fluxunit: erg / (cm2 s)\n"
       ]
      }
     ],
     "prompt_number": 24
    },
    {
     "cell_type": "code",
     "collapsed": false,
     "input": [
      "# How large is the whole sky in deg^2\n",
      "all_sky_solid_angle = (4 * np.pi * u.sr).to(u.deg ** 2)\n",
      "print('area of the sky: %.2f deg^2' % all_sky_solid_angle.value)"
     ],
     "language": "python",
     "metadata": {},
     "outputs": [
      {
       "output_type": "stream",
       "stream": "stdout",
       "text": [
        "area of the sky: 41252.96 deg^2\n"
       ]
      }
     ],
     "prompt_number": 25
    },
    {
     "cell_type": "code",
     "collapsed": false,
     "input": [
      "# Check if parsec is defined correctly in astropy :-)\n",
      "# A parsec is the distance at which the Earth-Sun distance (1 Astronomical Unit = 1 AU)\n",
      "# appears under an angle of 1 arcsec.\n",
      "u.rad.to(u.arcsec) * np.tan((u.AU / u.pc).in_units(1))"
     ],
     "language": "python",
     "metadata": {},
     "outputs": [
      {
       "output_type": "pyout",
       "prompt_number": 26,
       "text": [
        "1.0000000000156697"
       ]
      }
     ],
     "prompt_number": 26
    },
    {
     "cell_type": "heading",
     "level": 2,
     "metadata": {},
     "source": [
      "astropy.constants"
     ]
    },
    {
     "cell_type": "markdown",
     "metadata": {},
     "source": [
      "astropy.constants has been re-structured, astropy.constants.Constant is now a astropy.units.Quantity subclass.\n",
      "I'll wait for these PRs to be merged before writing this section:\n",
      "\n",
      "* https://github.com/astropy/astropy/pull/572\n",
      "* https://github.com/astropy/astropy/pull/540\n",
      "\n",
      "More SI constants can be found in [`scipy.constants`](http://docs.scipy.org/doc/scipy/reference/constants.html)."
     ]
    },
    {
     "cell_type": "code",
     "collapsed": false,
     "input": [
      "import astropy.constants"
     ],
     "language": "python",
     "metadata": {},
     "outputs": [],
     "prompt_number": 125
    },
    {
     "cell_type": "heading",
     "level": 2,
     "metadata": {},
     "source": [
      "Time and coordinate computations"
     ]
    },
    {
     "cell_type": "heading",
     "level": 3,
     "metadata": {},
     "source": [
      "astropy.time"
     ]
    },
    {
     "cell_type": "code",
     "collapsed": false,
     "input": [
      "# Simple time conversions\n",
      "# TODO: Compare to HEASARC time tool\n",
      "from astropy.time import Time\n",
      "time = Time('2010-01-01 00:00:00', format='iso', scale='utc')\n",
      "print('time: %s' % time)\n",
      "print('time.iso: %s' % time.iso)\n",
      "print('time.unix: %s' % time.unix)\n",
      "print('time.jd: %s' % time.jd)\n",
      "print('time.mjd: %s' % time.mjd)"
     ],
     "language": "python",
     "metadata": {},
     "outputs": [
      {
       "output_type": "stream",
       "stream": "stdout",
       "text": [
        "time: 2010-01-01 00:00:00.000\n",
        "time.iso: 2010-01-01 00:00:00.000\n",
        "time.unix: 1262304026.0\n",
        "time.jd: 2455197.5\n",
        "time.mjd: 55197.0\n"
       ]
      }
     ],
     "prompt_number": 28
    },
    {
     "cell_type": "code",
     "collapsed": false,
     "input": [
      "# Time computations (offsets, leap seconds?)\n",
      "# TODO: Compare to HEASARC tool"
     ],
     "language": "python",
     "metadata": {},
     "outputs": [],
     "prompt_number": 29
    },
    {
     "cell_type": "code",
     "collapsed": false,
     "input": [
      "# TODO: Maybe: Make a plot with x = time and y = time differences?"
     ],
     "language": "python",
     "metadata": {},
     "outputs": [],
     "prompt_number": 30
    },
    {
     "cell_type": "heading",
     "level": 3,
     "metadata": {},
     "source": [
      "astropy.coordinates"
     ]
    },
    {
     "cell_type": "markdown",
     "metadata": {},
     "source": [
      "The coordinates package ([docs](http://docs.astropy.org/en/latest/coordinates/index.html)) \n",
      "provides classes for representing celestial coordinates, as well as tools for converting between standard systems in a uniform way."
     ]
    },
    {
     "cell_type": "code",
     "collapsed": false,
     "input": [
      "from astropy import coordinates as coord"
     ],
     "language": "python",
     "metadata": {},
     "outputs": [],
     "prompt_number": 147
    },
    {
     "cell_type": "heading",
     "level": 4,
     "metadata": {},
     "source": [
      "Getting Started"
     ]
    },
    {
     "cell_type": "code",
     "collapsed": false,
     "input": [
      "# Create a coordinate object using floats ...\n",
      "c = coord.ICRSCoordinates(ra=10.68458, dec=41.26917, unit=('deg', 'deg'))\n",
      "# ... or using strings (in this case the units are clear, so you don't have to mention them.\n",
      "c = coord.ICRSCoordinates('00h42m44.3s +41d16m9s')\n",
      "c"
     ],
     "language": "python",
     "metadata": {},
     "outputs": [
      {
       "output_type": "pyout",
       "prompt_number": 185,
       "text": [
        "<ICRSCoordinates RA=10.68458 deg, Dec=41.26917 deg>"
       ]
      }
     ],
     "prompt_number": 185
    },
    {
     "cell_type": "code",
     "collapsed": false,
     "input": [
      "type(c)"
     ],
     "language": "python",
     "metadata": {},
     "outputs": [
      {
       "output_type": "pyout",
       "prompt_number": 186,
       "text": [
        "astropy.coordinates.builtin_systems.ICRSCoordinates"
       ]
      }
     ],
     "prompt_number": 186
    },
    {
     "cell_type": "code",
     "collapsed": false,
     "input": [
      "# Coordinate objects consists of two Angle objects\n",
      "c.ra, c.dec"
     ],
     "language": "python",
     "metadata": {},
     "outputs": [
      {
       "output_type": "pyout",
       "prompt_number": 193,
       "text": [
        "(<RA 10.68458 deg>, <Dec 41.26917 deg>)"
       ]
      }
     ],
     "prompt_number": 193
    },
    {
     "cell_type": "code",
     "collapsed": false,
     "input": [
      "# RA and Dec are Angle subclasses\n",
      "type(c.ra), type(c.dec)"
     ],
     "language": "python",
     "metadata": {},
     "outputs": [
      {
       "output_type": "pyout",
       "prompt_number": 194,
       "text": [
        "(astropy.coordinates.angles.RA, astropy.coordinates.angles.Dec)"
       ]
      }
     ],
     "prompt_number": 194
    },
    {
     "cell_type": "code",
     "collapsed": false,
     "input": [
      "# Get the float values in the unit you want via attribute access\n",
      "c.ra.degree, c.ra.radian, c.ra.hour"
     ],
     "language": "python",
     "metadata": {},
     "outputs": [
      {
       "output_type": "pyout",
       "prompt_number": 195,
       "text": [
        "(10.684583333333332, 0.18648115837037746, 0.7123055555555555)"
       ]
      }
     ],
     "prompt_number": 195
    },
    {
     "cell_type": "code",
     "collapsed": false,
     "input": [
      "c.dec.degree, c.dec.radian, c.dec.hour"
     ],
     "language": "python",
     "metadata": {},
     "outputs": [
      {
       "output_type": "pyout",
       "prompt_number": 196,
       "text": [
        "(41.26916666666666, 0.7202828378876265, 2.7512777777777777)"
       ]
      }
     ],
     "prompt_number": 196
    },
    {
     "cell_type": "code",
     "collapsed": false,
     "input": [
      "# Transform to other coordinate systems via attribute access\n",
      "c.galactic"
     ],
     "language": "python",
     "metadata": {},
     "outputs": [
      {
       "output_type": "pyout",
       "prompt_number": 197,
       "text": [
        "<GalacticCoordinates l=121.17431 deg, b=-21.57280 deg>"
       ]
      }
     ],
     "prompt_number": 197
    },
    {
     "cell_type": "code",
     "collapsed": false,
     "input": [
      "# Or explicitly by calling the transform_to method with the new\n",
      "# coordinate system class as argument\n",
      "c.transform_to(coord.GalacticCoordinates)"
     ],
     "language": "python",
     "metadata": {},
     "outputs": [
      {
       "output_type": "pyout",
       "prompt_number": 198,
       "text": [
        "<GalacticCoordinates l=121.17431 deg, b=-21.57280 deg>"
       ]
      }
     ],
     "prompt_number": 198
    },
    {
     "cell_type": "heading",
     "level": 4,
     "metadata": {},
     "source": [
      "Separations"
     ]
    },
    {
     "cell_type": "code",
     "collapsed": false,
     "input": [
      "c1 = coord.ICRSCoordinates('5h23m34.5s -69d45m22s')\n",
      "c2 = coord.ICRSCoordinates('0h52m44.8s -72d49m43s')\n",
      "sep = c1.separation(c2)\n",
      "sep"
     ],
     "language": "python",
     "metadata": {},
     "outputs": [
      {
       "output_type": "pyout",
       "prompt_number": 230,
       "text": [
        "<AngularSeparation 20.74612 deg>"
       ]
      }
     ],
     "prompt_number": 230
    },
    {
     "cell_type": "code",
     "collapsed": false,
     "input": [
      "sep.degrees, sep.radians, sep.hours, sep.arcmins, sep.arcsecs"
     ],
     "language": "python",
     "metadata": {},
     "outputs": [
      {
       "output_type": "pyout",
       "prompt_number": 208,
       "text": [
        "(20.746118437707477,\n",
        " 0.3620880737466976,\n",
        " 1.3830745625138319,\n",
        " 1244.7671062624486,\n",
        " 74686.02637574692)"
       ]
      }
     ],
     "prompt_number": 208
    },
    {
     "cell_type": "heading",
     "level": 4,
     "metadata": {},
     "source": [
      "Distances and Cartesian Representation"
     ]
    },
    {
     "cell_type": "code",
     "collapsed": false,
     "input": [
      "# TODO: unit='kpc' doesn't work, but it should (just like unit strings work for Angle, Coordinates, ...)\n",
      "d = coord.Distance(770, unit=u.kpc)\n",
      "d"
     ],
     "language": "python",
     "metadata": {},
     "outputs": [
      {
       "output_type": "pyout",
       "prompt_number": 224,
       "text": [
        "<Distance 770.00000 kpc>"
       ]
      }
     ],
     "prompt_number": 224
    },
    {
     "cell_type": "code",
     "collapsed": false,
     "input": [
      "c = coord.ICRSCoordinates('00h42m44.3s +41d16m9s', distance=d)"
     ],
     "language": "python",
     "metadata": {},
     "outputs": [],
     "prompt_number": 225
    },
    {
     "cell_type": "code",
     "collapsed": false,
     "input": [
      "c.x, c.y, c.z"
     ],
     "language": "python",
     "metadata": {},
     "outputs": [
      {
       "output_type": "pyout",
       "prompt_number": 227,
       "text": [
        "(568.7128882165681, 107.3009359688103, 507.8899092486349)"
       ]
      }
     ],
     "prompt_number": 227
    },
    {
     "cell_type": "code",
     "collapsed": false,
     "input": [
      "c.cartesian"
     ],
     "language": "python",
     "metadata": {},
     "outputs": [
      {
       "output_type": "pyout",
       "prompt_number": 232,
       "text": [
        "<CartesianPoints (568.712888217, 107.300935969, 507.889909249) kpc>"
       ]
      }
     ],
     "prompt_number": 232
    },
    {
     "cell_type": "code",
     "collapsed": false,
     "input": [
      "c.cartesian.unit"
     ],
     "language": "python",
     "metadata": {},
     "outputs": [
      {
       "latex": [
        "$\\mathrm{kpc}$"
       ],
       "output_type": "pyout",
       "prompt_number": 233,
       "text": [
        "Unit(\"kpc\")"
       ]
      }
     ],
     "prompt_number": 233
    },
    {
     "cell_type": "code",
     "collapsed": false,
     "input": [
      "c.cartesian - c.cartesian"
     ],
     "language": "python",
     "metadata": {},
     "outputs": [
      {
       "output_type": "pyout",
       "prompt_number": 234,
       "text": [
        "<CartesianPoints (0.0, 0.0, 0.0) kpc>"
       ]
      }
     ],
     "prompt_number": 234
    },
    {
     "cell_type": "code",
     "collapsed": false,
     "input": [
      "c1 = coord.ICRSCoordinates('5h23m34.5s -69d45m22s', distance=coord.Distance(49, u.kpc))\n",
      "c2 = coord.ICRSCoordinates('0h52m44.8s -72d49m43s', distance=coord.Distance(61, u.kpc))\n",
      "sep3d = c1.separation_3d(c2)\n",
      "sep3d"
     ],
     "language": "python",
     "metadata": {},
     "outputs": [
      {
       "output_type": "pyout",
       "prompt_number": 237,
       "text": [
        "<Distance 23.05685 kpc>"
       ]
      }
     ],
     "prompt_number": 237
    },
    {
     "cell_type": "code",
     "collapsed": false,
     "input": [
      "sep3d.kpc, sep3d.Mpc, sep3d.au"
     ],
     "language": "python",
     "metadata": {},
     "outputs": [
      {
       "output_type": "pyout",
       "prompt_number": 238,
       "text": [
        "(23.05684814695706, 0.02305684814695706, 4755816315.663559)"
       ]
      }
     ],
     "prompt_number": 238
    },
    {
     "cell_type": "heading",
     "level": 2,
     "metadata": {},
     "source": [
      "Working with astronomy data"
     ]
    },
    {
     "cell_type": "markdown",
     "metadata": {},
     "source": [
      "Probably best to show io and data types together?\n",
      "\n",
      "* astropy.table -- \n",
      "* astropy.nddata -- \n",
      "* astropy.wcs -- \n",
      "\n",
      "* astropy.io.fits -- \n",
      "* astropy.io.ascii -- \n",
      "* astropy.io.vo -- "
     ]
    },
    {
     "cell_type": "code",
     "collapsed": false,
     "input": [
      "import itertools\n",
      "from astropy.nddata import convolve, convolve_fft\n",
      "# Show %timeit ipython magic and how easy it is to prototype / investigate methods\n",
      "# Python is slow compared to C / C++ / Fortran,\n",
      "# but typically the compute-intensive parts are done by calls into\n",
      "# established C / C++ / Fortran or in Cython (TODO: explain)\n",
      "kernels = dict(small=(5, 5), large=(50, 50))\n",
      "images = dict(small=(100, 100), large=(1000, 1000))\n",
      "#for kernel, image in itertools.\n",
      "#small_image = np.random.randn(100, 100)\n",
      "#large_image = np.random.randn(1000, 1000)\n",
      "#small_kernel = np.random.randn(5, 5)\n",
      "list(itertools.product(kernels, images))"
     ],
     "language": "python",
     "metadata": {},
     "outputs": [
      {
       "output_type": "pyout",
       "prompt_number": 40,
       "text": [
        "[('large', 'large'),\n",
        " ('large', 'small'),\n",
        " ('small', 'large'),\n",
        " ('small', 'small')]"
       ]
      }
     ],
     "prompt_number": 40
    },
    {
     "cell_type": "heading",
     "level": 2,
     "metadata": {},
     "source": [
      "Other Packages"
     ]
    },
    {
     "cell_type": "heading",
     "level": 3,
     "metadata": {},
     "source": [
      "astropy.cosmology"
     ]
    },
    {
     "cell_type": "markdown",
     "metadata": {},
     "source": [
      " Constants: age of universe, ? or Plot: Accelerated expansion, origin and fate of the universe, make a joke"
     ]
    },
    {
     "cell_type": "code",
     "collapsed": false,
     "input": [
      "from astropy import cosmology"
     ],
     "language": "python",
     "metadata": {},
     "outputs": [],
     "prompt_number": 31
    },
    {
     "cell_type": "heading",
     "level": 3,
     "metadata": {},
     "source": [
      "astropy.stats"
     ]
    },
    {
     "cell_type": "code",
     "collapsed": false,
     "input": [
      "from astropy.stats import sigma_clip"
     ],
     "language": "python",
     "metadata": {},
     "outputs": [],
     "prompt_number": 32
    },
    {
     "cell_type": "markdown",
     "metadata": {},
     "source": [
      "What next?\n",
      "==========\n",
      "\n",
      "The aim of this Astropy package overview was to showcase with only a few lines of code what each Astropy package can do. You might have gotten the impression that Python / IPython / Astropy are a nice \"astronomy pocket calculator\", whereas you need a \"real\" astronomy data analysis library to process your big data. The thing about Python is that it does scale and comes with batteries included, i.e. there are tons of scientific Python packages that will save you 90% of your development time. Go check out this [TODO: add link to Fermi tutorial] Fermi data analysis pipeline.\n",
      "\n",
      "* Affiliated packages tutorial\n",
      "* Fermi LAT data analysis tutorial\n",
      "\n",
      "\n"
     ]
    }
   ],
   "metadata": {}
  }
 ]
}
